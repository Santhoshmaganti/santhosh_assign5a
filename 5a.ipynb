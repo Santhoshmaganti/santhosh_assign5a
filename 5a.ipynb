{
 "cells": [
  {
   "cell_type": "code",
   "execution_count": 4,
   "id": "6bebfbba",
   "metadata": {},
   "outputs": [],
   "source": [
    "dict={\"Family_members\":[\"Veera Brahmmam\",\"Ratna kumari\",\"Sravanthi\",\"Sravani\"]}"
   ]
  },
  {
   "cell_type": "code",
   "execution_count": 5,
   "id": "c8abab6f",
   "metadata": {},
   "outputs": [
    {
     "data": {
      "text/plain": [
       "{'Family_members': ['Veera Brahmmam', 'Ratna kumari', 'Sravanthi', 'Sravani']}"
      ]
     },
     "execution_count": 5,
     "metadata": {},
     "output_type": "execute_result"
    }
   ],
   "source": [
    "dict"
   ]
  },
  {
   "cell_type": "code",
   "execution_count": 6,
   "id": "8a534308",
   "metadata": {},
   "outputs": [],
   "source": [
    "dict={\"Family_members\":[\"Veera Brahmmam\",\"Ratna kumari\",\"Sravanthi\",\"Sravani\"],\"relations\":[\"Father\",\"Mother\",\"Sister\",\"Sister\"]}"
   ]
  },
  {
   "cell_type": "code",
   "execution_count": 7,
   "id": "a96e0506",
   "metadata": {},
   "outputs": [
    {
     "data": {
      "text/plain": [
       "{'Family_members': ['Veera Brahmmam', 'Ratna kumari', 'Sravanthi', 'Sravani'],\n",
       " 'relations': ['Father', 'Mother', 'Sister', 'Sister']}"
      ]
     },
     "execution_count": 7,
     "metadata": {},
     "output_type": "execute_result"
    }
   ],
   "source": [
    "dict"
   ]
  },
  {
   "cell_type": "code",
   "execution_count": 15,
   "id": "fcfa9048",
   "metadata": {},
   "outputs": [
    {
     "data": {
      "text/plain": [
       "['Veera Brahmmam']"
      ]
     },
     "execution_count": 15,
     "metadata": {},
     "output_type": "execute_result"
    }
   ],
   "source": [
    "dict[\"Family_members\"][0:1]"
   ]
  },
  {
   "cell_type": "code",
   "execution_count": 16,
   "id": "4eba92b7",
   "metadata": {},
   "outputs": [],
   "source": [
    "Friends_qualities={\"friend_names\":[\"hari\",\"harsha\",\"varun\",\"vamsi\"],\"quality\":[\"intelligent\",\"talkative\",\"anger\",\"funny\"]}"
   ]
  },
  {
   "cell_type": "code",
   "execution_count": 17,
   "id": "e5da83e8",
   "metadata": {},
   "outputs": [
    {
     "data": {
      "text/plain": [
       "{'friend_names': ['hari', 'harsha', 'varun', 'vamsi'],\n",
       " 'quality': ['intelligent', 'talkative', 'anger', 'funny']}"
      ]
     },
     "execution_count": 17,
     "metadata": {},
     "output_type": "execute_result"
    }
   ],
   "source": [
    "Friends_qualities"
   ]
  },
  {
   "cell_type": "code",
   "execution_count": 18,
   "id": "da26d9d8",
   "metadata": {},
   "outputs": [
    {
     "data": {
      "text/plain": [
       "['hari']"
      ]
     },
     "execution_count": 18,
     "metadata": {},
     "output_type": "execute_result"
    }
   ],
   "source": [
    "Friends_qualities[\"friend_names\"][0:1]"
   ]
  },
  {
   "cell_type": "code",
   "execution_count": 19,
   "id": "a849a546",
   "metadata": {},
   "outputs": [
    {
     "data": {
      "text/plain": [
       "['varun']"
      ]
     },
     "execution_count": 19,
     "metadata": {},
     "output_type": "execute_result"
    }
   ],
   "source": [
    "Friends_qualities[\"friend_names\"][2:3]"
   ]
  },
  {
   "cell_type": "code",
   "execution_count": 22,
   "id": "38bc3390",
   "metadata": {},
   "outputs": [],
   "source": [
    "Food_items={\"veg_items\":[\"panner biryani\",\"butternan\",\"baby corn\",\"aloo samosa\"],\"rating\":(3,1,5,4)}"
   ]
  },
  {
   "cell_type": "code",
   "execution_count": 23,
   "id": "7a0665ed",
   "metadata": {},
   "outputs": [
    {
     "data": {
      "text/plain": [
       "{'veg_items': ['panner biryani', 'butternan', 'baby corn', 'aloo samosa'],\n",
       " 'rating': (3, 1, 5, 4)}"
      ]
     },
     "execution_count": 23,
     "metadata": {},
     "output_type": "execute_result"
    }
   ],
   "source": [
    "Food_items"
   ]
  },
  {
   "cell_type": "code",
   "execution_count": 25,
   "id": "2da01592",
   "metadata": {},
   "outputs": [
    {
     "data": {
      "text/plain": [
       "['butternan']"
      ]
     },
     "execution_count": 25,
     "metadata": {},
     "output_type": "execute_result"
    }
   ],
   "source": [
    "Food_items[\"veg_items\"][1:2]"
   ]
  },
  {
   "cell_type": "code",
   "execution_count": 26,
   "id": "b642c53a",
   "metadata": {},
   "outputs": [],
   "source": [
    "Cities={\"destination\":[\"Bhimavaram\",\"Rajamundry\",\"Vijayawada\",\"Razole\"],\"rating\":[5,4,3,1]}"
   ]
  },
  {
   "cell_type": "code",
   "execution_count": 27,
   "id": "a56b6366",
   "metadata": {},
   "outputs": [
    {
     "data": {
      "text/plain": [
       "{'destination': ['Bhimavaram', 'Rajamundry', 'Vijayawada', 'Razole'],\n",
       " 'rating': [5, 4, 3, 1]}"
      ]
     },
     "execution_count": 27,
     "metadata": {},
     "output_type": "execute_result"
    }
   ],
   "source": [
    "Cities"
   ]
  },
  {
   "cell_type": "code",
   "execution_count": 29,
   "id": "d6e36f06",
   "metadata": {},
   "outputs": [
    {
     "data": {
      "text/plain": [
       "['Vijayawada']"
      ]
     },
     "execution_count": 29,
     "metadata": {},
     "output_type": "execute_result"
    }
   ],
   "source": [
    "Cities[\"destination\"][2:3]"
   ]
  },
  {
   "cell_type": "code",
   "execution_count": null,
   "id": "f14e1b6f",
   "metadata": {},
   "outputs": [],
   "source": []
  },
  {
   "cell_type": "code",
   "execution_count": null,
   "id": "b0b735ce",
   "metadata": {},
   "outputs": [],
   "source": []
  },
  {
   "cell_type": "code",
   "execution_count": null,
   "id": "b3fb37f4",
   "metadata": {},
   "outputs": [],
   "source": []
  },
  {
   "cell_type": "code",
   "execution_count": null,
   "id": "c8ec601f",
   "metadata": {},
   "outputs": [],
   "source": []
  },
  {
   "cell_type": "code",
   "execution_count": null,
   "id": "ec8e4ee7",
   "metadata": {},
   "outputs": [],
   "source": []
  },
  {
   "cell_type": "code",
   "execution_count": null,
   "id": "f9732965",
   "metadata": {},
   "outputs": [],
   "source": []
  }
 ],
 "metadata": {
  "kernelspec": {
   "display_name": "Python 3 (ipykernel)",
   "language": "python",
   "name": "python3"
  },
  "language_info": {
   "codemirror_mode": {
    "name": "ipython",
    "version": 3
   },
   "file_extension": ".py",
   "mimetype": "text/x-python",
   "name": "python",
   "nbconvert_exporter": "python",
   "pygments_lexer": "ipython3",
   "version": "3.10.9"
  }
 },
 "nbformat": 4,
 "nbformat_minor": 5
}
